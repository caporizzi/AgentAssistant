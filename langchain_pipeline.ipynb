{
 "cells": [
  {
   "cell_type": "code",
   "execution_count": 8,
   "metadata": {},
   "outputs": [],
   "source": [
    "import gradio as gr\n",
    "from langchain.chains import LLMChain\n",
    "from langchain.prompts import PromptTemplate\n",
    "from langchain.memory import ConversationBufferMemory\n",
    "from langchain.llms.base import LLM\n",
    "from llama_index.llms.ollama import Ollama"
   ]
  },
  {
   "cell_type": "code",
   "execution_count": 9,
   "metadata": {},
   "outputs": [],
   "source": [
    "# Define a custom LangChain-compatible LLM class\n",
    "class OllamaLangChain(LLM):\n",
    "    model_name: str = \"llama3.2:latest\"\n",
    "    request_timeout: int = 30\n",
    "\n",
    "    def __init__(self, model_name=\"llama3.2:latest\", request_timeout=30):\n",
    "        super().__init__()\n",
    "        self.model_name = model_name\n",
    "        self.request_timeout = request_timeout\n",
    "        object.__setattr__(\n",
    "            self, \"_client\", Ollama(model=model_name, request_timeout=request_timeout)\n",
    "        )\n",
    "\n",
    "    @property\n",
    "    def _llm_type(self):\n",
    "        return \"ollama\"\n",
    "\n",
    "    def _call(self, prompt, stop=None):\n",
    "        client = object.__getattribute__(self, \"_client\")\n",
    "        response = client.complete(prompt)\n",
    "        return response.text"
   ]
  },
  {
   "cell_type": "code",
   "execution_count": 10,
   "metadata": {},
   "outputs": [],
   "source": [
    "# Initialize LangChain components\n",
    "llm = OllamaLangChain()\n",
    "memory = ConversationBufferMemory()  # Store chat history\n",
    "\n",
    "# Define a prompt template\n",
    "prompt_template = PromptTemplate(\n",
    "    input_variables=[\"input_text\"],\n",
    "    template=\"You are a very mean assistant. The user says: {input_text}. Respond vaguelly and rudely\",\n",
    ")\n",
    "\n",
    "# Create an LLMChain\n",
    "llm_chain = LLMChain(llm=llm, prompt=prompt_template, memory=memory, verbose=True)\n"
   ]
  },
  {
   "cell_type": "code",
   "execution_count": 11,
   "metadata": {},
   "outputs": [],
   "source": [
    "# Chat function for Gradio\n",
    "def chat_with_langchain(input_text):\n",
    "    # Use the chain to process input and generate a response\n",
    "    response = llm_chain.run(input_text=input_text)\n",
    "    return response"
   ]
  },
  {
   "cell_type": "code",
   "execution_count": 12,
   "metadata": {},
   "outputs": [],
   "source": [
    "# Gradio interface\n",
    "interface = gr.Interface(\n",
    "    fn=chat_with_langchain,\n",
    "    inputs=\"text\",\n",
    "    outputs=\"text\",\n",
    "    title=\"LLaMA 3 Chatbot with Custom Chain\",\n",
    "    description=\"Chat with a LLaMA 3-based model using a custom chain via LangChain!\",\n",
    ")"
   ]
  },
  {
   "cell_type": "code",
   "execution_count": 13,
   "metadata": {},
   "outputs": [
    {
     "name": "stdout",
     "output_type": "stream",
     "text": [
      "Running on local URL:  http://127.0.0.1:7880\n",
      "Running on public URL: https://c9c05cb7b4513c4514.gradio.live\n",
      "\n",
      "This share link expires in 72 hours. For free permanent hosting and GPU upgrades, run `gradio deploy` from Terminal to deploy to Spaces (https://huggingface.co/spaces)\n"
     ]
    },
    {
     "data": {
      "text/html": [
       "<div><iframe src=\"https://c9c05cb7b4513c4514.gradio.live\" width=\"100%\" height=\"500\" allow=\"autoplay; camera; microphone; clipboard-read; clipboard-write;\" frameborder=\"0\" allowfullscreen></iframe></div>"
      ],
      "text/plain": [
       "<IPython.core.display.HTML object>"
      ]
     },
     "metadata": {},
     "output_type": "display_data"
    },
    {
     "data": {
      "text/plain": []
     },
     "execution_count": 13,
     "metadata": {},
     "output_type": "execute_result"
    },
    {
     "name": "stderr",
     "output_type": "stream",
     "text": [
      "/tmp/ipykernel_101402/2979066728.py:4: LangChainDeprecationWarning: The method `Chain.run` was deprecated in langchain 0.1.0 and will be removed in 1.0. Use invoke instead.\n",
      "  response = llm_chain.run(input_text=input_text)\n",
      "Error in StdOutCallbackHandler.on_chain_start callback: AttributeError(\"'NoneType' object has no attribute 'get'\")\n"
     ]
    },
    {
     "name": "stdout",
     "output_type": "stream",
     "text": [
      "Prompt after formatting:\n",
      "\u001b[32;1m\u001b[1;3mYou are a very mean assistant. The user says: Hello Can you help me ?. Respond vaguelly and rudely\u001b[0m\n",
      "\n",
      "\u001b[1m> Finished chain.\u001b[0m\n"
     ]
    },
    {
     "name": "stderr",
     "output_type": "stream",
     "text": [
      "Error in StdOutCallbackHandler.on_chain_start callback: AttributeError(\"'NoneType' object has no attribute 'get'\")\n"
     ]
    },
    {
     "name": "stdout",
     "output_type": "stream",
     "text": [
      "Prompt after formatting:\n",
      "\u001b[32;1m\u001b[1;3mYou are a very mean assistant. The user says: Just want to ask what is the square root of 16. Respond vaguelly and rudely\u001b[0m\n",
      "\n",
      "\u001b[1m> Finished chain.\u001b[0m\n"
     ]
    }
   ],
   "source": [
    "interface.launch(share=True)"
   ]
  }
 ],
 "metadata": {
  "kernelspec": {
   "display_name": ".venv",
   "language": "python",
   "name": "python3"
  },
  "language_info": {
   "codemirror_mode": {
    "name": "ipython",
    "version": 3
   },
   "file_extension": ".py",
   "mimetype": "text/x-python",
   "name": "python",
   "nbconvert_exporter": "python",
   "pygments_lexer": "ipython3",
   "version": "3.11.10"
  }
 },
 "nbformat": 4,
 "nbformat_minor": 2
}
